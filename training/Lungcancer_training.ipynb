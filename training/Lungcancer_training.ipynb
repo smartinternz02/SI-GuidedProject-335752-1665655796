{
 "cells": [
  {
   "cell_type": "code",
   "execution_count": 1,
   "metadata": {},
   "outputs": [],
   "source": [
    "from tensorflow.keras.models import Sequential\n",
    "from tensorflow.keras.layers import Dense\n",
    "from tensorflow.keras.layers import Convolution2D\n",
    "from tensorflow.keras.layers import MaxPooling2D\n",
    "from tensorflow.keras.layers import Flatten\n"
   ]
  },
  {
   "cell_type": "code",
   "execution_count": 2,
   "metadata": {},
   "outputs": [],
   "source": [
    "from keras.preprocessing.image import ImageDataGenerator\n",
    "train_datagen = ImageDataGenerator(rescale = 1./255,shear_range = 0.2,zoom_range = 0.2,horizontal_flip = True)\n",
    "test_datagen = ImageDataGenerator(rescale = 1./255)"
   ]
  },
  {
   "cell_type": "code",
   "execution_count": 4,
   "metadata": {},
   "outputs": [
    {
     "name": "stdout",
     "output_type": "stream",
     "text": [
      "Found 102 images belonging to 2 classes.\n",
      "Found 40 images belonging to 2 classes.\n"
     ]
    }
   ],
   "source": [
    "# applying Image data generator functionality to train and test set\n",
    "x_train = train_datagen.flow_from_directory(\n",
    "    r'C:\\Users\\SANGEETHA\\Desktop\\lung cancer disease\\data set\\trainset'\n",
    "    ,target_size = (64,64),batch_size = 32 ,\n",
    "    class_mode = 'binary',color_mode=\"grayscale\")\n",
    "x_test = test_datagen.flow_from_directory(\n",
    "    r'C:\\Users\\SANGEETHA\\Desktop\\lung cancer disease\\data set\\testset',\n",
    "    target_size = (64,64),batch_size = 32 , \n",
    "    class_mode = 'binary',color_mode=\"grayscale\")\n"
   ]
  },
  {
   "cell_type": "code",
   "execution_count": 5,
   "metadata": {},
   "outputs": [
    {
     "name": "stdout",
     "output_type": "stream",
     "text": [
      "{'Cancer': 0, 'NonCancer': 1}\n"
     ]
    }
   ],
   "source": [
    "print(x_train.class_indices)"
   ]
  },
  {
   "cell_type": "code",
   "execution_count": 6,
   "metadata": {},
   "outputs": [],
   "source": [
    "model = Sequential()"
   ]
  },
  {
   "cell_type": "code",
   "execution_count": 7,
   "metadata": {},
   "outputs": [],
   "source": [
    "model.add(Convolution2D(32,(3,3), input_shape = (64,64,1),activation = \"relu\"))"
   ]
  },
  {
   "cell_type": "code",
   "execution_count": 8,
   "metadata": {},
   "outputs": [],
   "source": [
    "model.add(MaxPooling2D(pool_size = (2,2)))"
   ]
  },
  {
   "cell_type": "code",
   "execution_count": 9,
   "metadata": {},
   "outputs": [],
   "source": [
    "model.add(Flatten()) # input layer"
   ]
  },
  {
   "cell_type": "code",
   "execution_count": 10,
   "metadata": {},
   "outputs": [],
   "source": [
    "model.add(Dense(units = 128,kernel_initializer = \"random_uniform\",activation = \"relu\")) #hidden layer"
   ]
  },
  {
   "cell_type": "code",
   "execution_count": 11,
   "metadata": {},
   "outputs": [],
   "source": [
    "model.add(Dense(units = 1,kernel_initializer = \"random_uniform\",activation = \"sigmoid\")) #output layer"
   ]
  },
  {
   "cell_type": "code",
   "execution_count": 12,
   "metadata": {},
   "outputs": [],
   "source": [
    "model.compile(loss = \"binary_crossentropy\",optimizer = \"adam\",metrics = [\"accuracy\"])"
   ]
  },
  {
   "cell_type": "code",
   "execution_count": 13,
   "metadata": {},
   "outputs": [
    {
     "name": "stderr",
     "output_type": "stream",
     "text": [
      "C:\\Users\\SANGEETHA\\AppData\\Local\\Temp\\ipykernel_21108\\772929486.py:1: UserWarning: `Model.fit_generator` is deprecated and will be removed in a future version. Please use `Model.fit`, which supports generators.\n",
      "  model.fit_generator(x_train , steps_per_epoch = 4, epochs = 100, validation_data = x_test, validation_steps = 2)\n"
     ]
    },
    {
     "name": "stdout",
     "output_type": "stream",
     "text": [
      "Epoch 1/100\n",
      "4/4 [==============================] - 1s 265ms/step - loss: 0.6909 - accuracy: 0.4804 - val_loss: 0.6449 - val_accuracy: 0.6500\n",
      "Epoch 2/100\n",
      "4/4 [==============================] - 1s 148ms/step - loss: 0.6431 - accuracy: 0.6373 - val_loss: 0.5932 - val_accuracy: 0.7000\n",
      "Epoch 3/100\n",
      "4/4 [==============================] - 1s 147ms/step - loss: 0.5876 - accuracy: 0.6078 - val_loss: 0.5335 - val_accuracy: 0.7000\n",
      "Epoch 4/100\n",
      "4/4 [==============================] - 1s 184ms/step - loss: 0.5783 - accuracy: 0.7059 - val_loss: 0.5408 - val_accuracy: 0.7750\n",
      "Epoch 5/100\n",
      "4/4 [==============================] - 1s 167ms/step - loss: 0.5428 - accuracy: 0.7353 - val_loss: 0.4764 - val_accuracy: 0.7000\n",
      "Epoch 6/100\n",
      "4/4 [==============================] - 1s 160ms/step - loss: 0.5609 - accuracy: 0.6863 - val_loss: 0.4560 - val_accuracy: 0.7250\n",
      "Epoch 7/100\n",
      "4/4 [==============================] - 1s 148ms/step - loss: 0.5846 - accuracy: 0.6667 - val_loss: 0.5079 - val_accuracy: 0.7250\n",
      "Epoch 8/100\n",
      "4/4 [==============================] - 1s 149ms/step - loss: 0.4924 - accuracy: 0.7941 - val_loss: 0.4668 - val_accuracy: 0.8250\n",
      "Epoch 9/100\n",
      "4/4 [==============================] - 1s 149ms/step - loss: 0.4890 - accuracy: 0.7647 - val_loss: 0.4625 - val_accuracy: 0.7250\n",
      "Epoch 10/100\n",
      "4/4 [==============================] - 1s 198ms/step - loss: 0.4830 - accuracy: 0.7255 - val_loss: 0.4779 - val_accuracy: 0.8500\n",
      "Epoch 11/100\n",
      "4/4 [==============================] - 1s 214ms/step - loss: 0.4646 - accuracy: 0.7745 - val_loss: 0.4679 - val_accuracy: 0.8000\n",
      "Epoch 12/100\n",
      "4/4 [==============================] - 1s 194ms/step - loss: 0.4169 - accuracy: 0.8137 - val_loss: 0.3971 - val_accuracy: 0.8750\n",
      "Epoch 13/100\n",
      "4/4 [==============================] - 1s 242ms/step - loss: 0.4159 - accuracy: 0.8039 - val_loss: 0.3496 - val_accuracy: 0.8750\n",
      "Epoch 14/100\n",
      "4/4 [==============================] - 1s 184ms/step - loss: 0.3879 - accuracy: 0.8431 - val_loss: 0.3553 - val_accuracy: 0.9000\n",
      "Epoch 15/100\n",
      "4/4 [==============================] - 1s 142ms/step - loss: 0.3634 - accuracy: 0.8627 - val_loss: 0.4565 - val_accuracy: 0.7750\n",
      "Epoch 16/100\n",
      "4/4 [==============================] - 1s 149ms/step - loss: 0.3570 - accuracy: 0.8725 - val_loss: 0.3214 - val_accuracy: 0.9000\n",
      "Epoch 17/100\n",
      "4/4 [==============================] - 1s 188ms/step - loss: 0.3121 - accuracy: 0.8627 - val_loss: 0.3403 - val_accuracy: 0.9000\n",
      "Epoch 18/100\n",
      "4/4 [==============================] - 1s 147ms/step - loss: 0.3068 - accuracy: 0.8725 - val_loss: 0.2820 - val_accuracy: 0.9250\n",
      "Epoch 19/100\n",
      "4/4 [==============================] - 1s 146ms/step - loss: 0.3020 - accuracy: 0.8529 - val_loss: 0.3292 - val_accuracy: 0.9000\n",
      "Epoch 20/100\n",
      "4/4 [==============================] - 1s 188ms/step - loss: 0.3417 - accuracy: 0.8725 - val_loss: 0.1921 - val_accuracy: 0.9250\n",
      "Epoch 21/100\n",
      "4/4 [==============================] - 1s 197ms/step - loss: 0.3622 - accuracy: 0.8431 - val_loss: 0.3949 - val_accuracy: 0.8000\n",
      "Epoch 22/100\n",
      "4/4 [==============================] - 1s 199ms/step - loss: 0.3494 - accuracy: 0.8235 - val_loss: 0.1706 - val_accuracy: 0.9250\n",
      "Epoch 23/100\n",
      "4/4 [==============================] - 1s 265ms/step - loss: 0.3382 - accuracy: 0.8529 - val_loss: 0.3492 - val_accuracy: 0.8500\n",
      "Epoch 24/100\n",
      "4/4 [==============================] - 1s 157ms/step - loss: 0.2840 - accuracy: 0.8824 - val_loss: 0.1594 - val_accuracy: 0.9750\n",
      "Epoch 25/100\n",
      "4/4 [==============================] - 1s 146ms/step - loss: 0.2677 - accuracy: 0.9020 - val_loss: 0.2687 - val_accuracy: 0.8750\n",
      "Epoch 26/100\n",
      "4/4 [==============================] - 1s 191ms/step - loss: 0.2642 - accuracy: 0.8824 - val_loss: 0.1473 - val_accuracy: 0.9250\n",
      "Epoch 27/100\n",
      "4/4 [==============================] - 1s 182ms/step - loss: 0.2810 - accuracy: 0.9216 - val_loss: 0.2507 - val_accuracy: 0.9250\n",
      "Epoch 28/100\n",
      "4/4 [==============================] - 1s 207ms/step - loss: 0.2104 - accuracy: 0.9412 - val_loss: 0.1383 - val_accuracy: 0.9500\n",
      "Epoch 29/100\n",
      "4/4 [==============================] - 1s 252ms/step - loss: 0.2534 - accuracy: 0.8922 - val_loss: 0.2947 - val_accuracy: 0.8750\n",
      "Epoch 30/100\n",
      "4/4 [==============================] - 1s 215ms/step - loss: 0.1870 - accuracy: 0.9412 - val_loss: 0.1162 - val_accuracy: 0.9500\n",
      "Epoch 31/100\n",
      "4/4 [==============================] - 1s 194ms/step - loss: 0.1807 - accuracy: 0.9706 - val_loss: 0.1645 - val_accuracy: 0.9500\n",
      "Epoch 32/100\n",
      "4/4 [==============================] - 1s 166ms/step - loss: 0.2198 - accuracy: 0.8922 - val_loss: 0.2495 - val_accuracy: 0.9250\n",
      "Epoch 33/100\n",
      "4/4 [==============================] - 1s 185ms/step - loss: 0.2515 - accuracy: 0.9118 - val_loss: 0.1439 - val_accuracy: 0.9500\n",
      "Epoch 34/100\n",
      "4/4 [==============================] - 1s 141ms/step - loss: 0.2708 - accuracy: 0.8922 - val_loss: 0.3419 - val_accuracy: 0.8500\n",
      "Epoch 35/100\n",
      "4/4 [==============================] - 1s 144ms/step - loss: 0.2130 - accuracy: 0.9020 - val_loss: 0.1049 - val_accuracy: 0.9750\n",
      "Epoch 36/100\n",
      "4/4 [==============================] - 1s 147ms/step - loss: 0.1725 - accuracy: 0.9314 - val_loss: 0.2101 - val_accuracy: 0.9000\n",
      "Epoch 37/100\n",
      "4/4 [==============================] - 1s 187ms/step - loss: 0.2098 - accuracy: 0.9216 - val_loss: 0.1461 - val_accuracy: 0.9500\n",
      "Epoch 38/100\n",
      "4/4 [==============================] - 1s 198ms/step - loss: 0.1614 - accuracy: 0.9510 - val_loss: 0.0887 - val_accuracy: 0.9750\n",
      "Epoch 39/100\n",
      "4/4 [==============================] - 1s 257ms/step - loss: 0.1602 - accuracy: 0.9608 - val_loss: 0.1545 - val_accuracy: 0.9500\n",
      "Epoch 40/100\n",
      "4/4 [==============================] - 1s 201ms/step - loss: 0.1736 - accuracy: 0.9216 - val_loss: 0.0876 - val_accuracy: 0.9750\n",
      "Epoch 41/100\n",
      "4/4 [==============================] - 1s 191ms/step - loss: 0.1545 - accuracy: 0.9608 - val_loss: 0.0818 - val_accuracy: 0.9750\n",
      "Epoch 42/100\n",
      "4/4 [==============================] - 1s 160ms/step - loss: 0.1331 - accuracy: 0.9510 - val_loss: 0.1130 - val_accuracy: 0.9750\n",
      "Epoch 43/100\n",
      "4/4 [==============================] - 1s 148ms/step - loss: 0.0982 - accuracy: 0.9804 - val_loss: 0.0792 - val_accuracy: 0.9750\n",
      "Epoch 44/100\n",
      "4/4 [==============================] - 1s 149ms/step - loss: 0.1428 - accuracy: 0.9804 - val_loss: 0.0825 - val_accuracy: 0.9750\n",
      "Epoch 45/100\n",
      "4/4 [==============================] - 1s 163ms/step - loss: 0.1260 - accuracy: 0.9608 - val_loss: 0.1945 - val_accuracy: 0.9500\n",
      "Epoch 46/100\n",
      "4/4 [==============================] - 1s 192ms/step - loss: 0.1318 - accuracy: 0.9510 - val_loss: 0.0691 - val_accuracy: 0.9750\n",
      "Epoch 47/100\n",
      "4/4 [==============================] - 1s 192ms/step - loss: 0.1205 - accuracy: 0.9706 - val_loss: 0.1073 - val_accuracy: 0.9750\n",
      "Epoch 48/100\n",
      "4/4 [==============================] - 1s 194ms/step - loss: 0.1286 - accuracy: 0.9412 - val_loss: 0.0759 - val_accuracy: 0.9750\n",
      "Epoch 49/100\n",
      "4/4 [==============================] - 1s 189ms/step - loss: 0.0930 - accuracy: 0.9902 - val_loss: 0.0829 - val_accuracy: 0.9750\n",
      "Epoch 50/100\n",
      "4/4 [==============================] - 1s 245ms/step - loss: 0.1446 - accuracy: 0.9510 - val_loss: 0.0651 - val_accuracy: 0.9500\n",
      "Epoch 51/100\n",
      "4/4 [==============================] - 1s 186ms/step - loss: 0.1296 - accuracy: 0.9706 - val_loss: 0.0984 - val_accuracy: 0.9750\n",
      "Epoch 52/100\n",
      "4/4 [==============================] - 1s 183ms/step - loss: 0.0990 - accuracy: 0.9706 - val_loss: 0.0667 - val_accuracy: 0.9750\n",
      "Epoch 53/100\n",
      "4/4 [==============================] - 1s 143ms/step - loss: 0.1250 - accuracy: 0.9608 - val_loss: 0.0506 - val_accuracy: 1.0000\n",
      "Epoch 54/100\n",
      "4/4 [==============================] - 1s 188ms/step - loss: 0.0676 - accuracy: 0.9804 - val_loss: 0.0667 - val_accuracy: 0.9750\n",
      "Epoch 55/100\n",
      "4/4 [==============================] - 1s 187ms/step - loss: 0.0872 - accuracy: 0.9706 - val_loss: 0.0948 - val_accuracy: 0.9750\n",
      "Epoch 56/100\n",
      "4/4 [==============================] - 1s 189ms/step - loss: 0.0547 - accuracy: 1.0000 - val_loss: 0.0453 - val_accuracy: 0.9750\n",
      "Epoch 57/100\n",
      "4/4 [==============================] - 1s 177ms/step - loss: 0.1144 - accuracy: 0.9608 - val_loss: 0.1155 - val_accuracy: 0.9500\n",
      "Epoch 58/100\n",
      "4/4 [==============================] - 1s 196ms/step - loss: 0.0831 - accuracy: 0.9804 - val_loss: 0.0636 - val_accuracy: 0.9750\n"
     ]
    },
    {
     "name": "stdout",
     "output_type": "stream",
     "text": [
      "Epoch 59/100\n",
      "4/4 [==============================] - 1s 259ms/step - loss: 0.0963 - accuracy: 0.9706 - val_loss: 0.0603 - val_accuracy: 0.9750\n",
      "Epoch 60/100\n",
      "4/4 [==============================] - 1s 207ms/step - loss: 0.0871 - accuracy: 0.9706 - val_loss: 0.2182 - val_accuracy: 0.9250\n",
      "Epoch 61/100\n",
      "4/4 [==============================] - 1s 147ms/step - loss: 0.0855 - accuracy: 0.9706 - val_loss: 0.0417 - val_accuracy: 1.0000\n",
      "Epoch 62/100\n",
      "4/4 [==============================] - 1s 151ms/step - loss: 0.1048 - accuracy: 0.9608 - val_loss: 0.0612 - val_accuracy: 0.9750\n",
      "Epoch 63/100\n",
      "4/4 [==============================] - 1s 150ms/step - loss: 0.0876 - accuracy: 0.9804 - val_loss: 0.0655 - val_accuracy: 0.9750\n",
      "Epoch 64/100\n",
      "4/4 [==============================] - 1s 146ms/step - loss: 0.0818 - accuracy: 0.9706 - val_loss: 0.0576 - val_accuracy: 0.9750\n",
      "Epoch 65/100\n",
      "4/4 [==============================] - 1s 146ms/step - loss: 0.0779 - accuracy: 0.9804 - val_loss: 0.0877 - val_accuracy: 0.9750\n",
      "Epoch 66/100\n",
      "4/4 [==============================] - 1s 175ms/step - loss: 0.0968 - accuracy: 0.9608 - val_loss: 0.0561 - val_accuracy: 0.9750\n",
      "Epoch 67/100\n",
      "4/4 [==============================] - 1s 156ms/step - loss: 0.0509 - accuracy: 0.9804 - val_loss: 0.0643 - val_accuracy: 0.9750\n",
      "Epoch 68/100\n",
      "4/4 [==============================] - 1s 259ms/step - loss: 0.0732 - accuracy: 0.9902 - val_loss: 0.0509 - val_accuracy: 0.9750\n",
      "Epoch 69/100\n",
      "4/4 [==============================] - 1s 254ms/step - loss: 0.0852 - accuracy: 0.9804 - val_loss: 0.0226 - val_accuracy: 1.0000\n",
      "Epoch 70/100\n",
      "4/4 [==============================] - 1s 249ms/step - loss: 0.0884 - accuracy: 0.9902 - val_loss: 0.0380 - val_accuracy: 1.0000\n",
      "Epoch 71/100\n",
      "4/4 [==============================] - 1s 201ms/step - loss: 0.0618 - accuracy: 0.9902 - val_loss: 0.0390 - val_accuracy: 1.0000\n",
      "Epoch 72/100\n",
      "4/4 [==============================] - 1s 145ms/step - loss: 0.0363 - accuracy: 1.0000 - val_loss: 0.0181 - val_accuracy: 1.0000\n",
      "Epoch 73/100\n",
      "4/4 [==============================] - 1s 144ms/step - loss: 0.0371 - accuracy: 1.0000 - val_loss: 0.0605 - val_accuracy: 0.9750\n",
      "Epoch 74/100\n",
      "4/4 [==============================] - 1s 144ms/step - loss: 0.0709 - accuracy: 0.9804 - val_loss: 0.0464 - val_accuracy: 0.9750\n",
      "Epoch 75/100\n",
      "4/4 [==============================] - 1s 141ms/step - loss: 0.0381 - accuracy: 0.9902 - val_loss: 0.0126 - val_accuracy: 1.0000\n",
      "Epoch 76/100\n",
      "4/4 [==============================] - 1s 199ms/step - loss: 0.0828 - accuracy: 0.9706 - val_loss: 0.0135 - val_accuracy: 1.0000\n",
      "Epoch 77/100\n",
      "4/4 [==============================] - 1s 213ms/step - loss: 0.0408 - accuracy: 0.9902 - val_loss: 0.0513 - val_accuracy: 0.9750\n",
      "Epoch 78/100\n",
      "4/4 [==============================] - 1s 203ms/step - loss: 0.0541 - accuracy: 0.9902 - val_loss: 0.0122 - val_accuracy: 1.0000\n",
      "Epoch 79/100\n",
      "4/4 [==============================] - 1s 181ms/step - loss: 0.0637 - accuracy: 0.9706 - val_loss: 0.0346 - val_accuracy: 1.0000\n",
      "Epoch 80/100\n",
      "4/4 [==============================] - 1s 153ms/step - loss: 0.0569 - accuracy: 0.9804 - val_loss: 0.0138 - val_accuracy: 1.0000\n",
      "Epoch 81/100\n",
      "4/4 [==============================] - 1s 154ms/step - loss: 0.0913 - accuracy: 0.9902 - val_loss: 0.0141 - val_accuracy: 1.0000\n",
      "Epoch 82/100\n",
      "4/4 [==============================] - 1s 149ms/step - loss: 0.0408 - accuracy: 1.0000 - val_loss: 0.0707 - val_accuracy: 0.9750\n",
      "Epoch 83/100\n",
      "4/4 [==============================] - 1s 184ms/step - loss: 0.0436 - accuracy: 1.0000 - val_loss: 0.0203 - val_accuracy: 1.0000\n",
      "Epoch 84/100\n",
      "4/4 [==============================] - 1s 146ms/step - loss: 0.0360 - accuracy: 0.9902 - val_loss: 0.0146 - val_accuracy: 1.0000\n",
      "Epoch 85/100\n",
      "4/4 [==============================] - 1s 146ms/step - loss: 0.0426 - accuracy: 0.9902 - val_loss: 0.1168 - val_accuracy: 0.9750\n",
      "Epoch 86/100\n",
      "4/4 [==============================] - 1s 242ms/step - loss: 0.0836 - accuracy: 0.9608 - val_loss: 0.0119 - val_accuracy: 1.0000\n",
      "Epoch 87/100\n",
      "4/4 [==============================] - 1s 198ms/step - loss: 0.0335 - accuracy: 0.9902 - val_loss: 0.0440 - val_accuracy: 0.9750\n",
      "Epoch 88/100\n",
      "4/4 [==============================] - 1s 206ms/step - loss: 0.0469 - accuracy: 0.9902 - val_loss: 0.0192 - val_accuracy: 1.0000\n",
      "Epoch 89/100\n",
      "4/4 [==============================] - 1s 195ms/step - loss: 0.0377 - accuracy: 1.0000 - val_loss: 0.0104 - val_accuracy: 1.0000\n",
      "Epoch 90/100\n",
      "4/4 [==============================] - 1s 156ms/step - loss: 0.0334 - accuracy: 1.0000 - val_loss: 0.0269 - val_accuracy: 1.0000\n",
      "Epoch 91/100\n",
      "4/4 [==============================] - 1s 151ms/step - loss: 0.0436 - accuracy: 0.9902 - val_loss: 0.1201 - val_accuracy: 0.9750\n",
      "Epoch 92/100\n",
      "4/4 [==============================] - 1s 154ms/step - loss: 0.0522 - accuracy: 0.9902 - val_loss: 0.0086 - val_accuracy: 1.0000\n",
      "Epoch 93/100\n",
      "4/4 [==============================] - 1s 153ms/step - loss: 0.0648 - accuracy: 0.9706 - val_loss: 0.0716 - val_accuracy: 0.9750\n",
      "Epoch 94/100\n",
      "4/4 [==============================] - 1s 177ms/step - loss: 0.0520 - accuracy: 0.9804 - val_loss: 0.0427 - val_accuracy: 0.9750\n",
      "Epoch 95/100\n",
      "4/4 [==============================] - 1s 203ms/step - loss: 0.0540 - accuracy: 0.9902 - val_loss: 0.0127 - val_accuracy: 1.0000\n",
      "Epoch 96/100\n",
      "4/4 [==============================] - 1s 206ms/step - loss: 0.0532 - accuracy: 0.9706 - val_loss: 0.1906 - val_accuracy: 0.9000\n",
      "Epoch 97/100\n",
      "4/4 [==============================] - 1s 205ms/step - loss: 0.0600 - accuracy: 0.9804 - val_loss: 0.0101 - val_accuracy: 1.0000\n",
      "Epoch 98/100\n",
      "4/4 [==============================] - 1s 143ms/step - loss: 0.0447 - accuracy: 0.9902 - val_loss: 0.0145 - val_accuracy: 1.0000\n",
      "Epoch 99/100\n",
      "4/4 [==============================] - 1s 148ms/step - loss: 0.0499 - accuracy: 0.9804 - val_loss: 0.0860 - val_accuracy: 0.9500\n",
      "Epoch 100/100\n",
      "4/4 [==============================] - 1s 150ms/step - loss: 0.0421 - accuracy: 0.9902 - val_loss: 0.0088 - val_accuracy: 1.0000\n"
     ]
    },
    {
     "data": {
      "text/plain": [
       "<keras.callbacks.History at 0x1adfed59e50>"
      ]
     },
     "execution_count": 13,
     "metadata": {},
     "output_type": "execute_result"
    }
   ],
   "source": [
    "model.fit_generator(x_train , steps_per_epoch = 4, epochs = 100, validation_data = x_test, validation_steps = 2)"
   ]
  },
  {
   "cell_type": "code",
   "execution_count": 14,
   "metadata": {},
   "outputs": [],
   "source": [
    "model.save(\"LungCancer.h5\")"
   ]
  },
  {
   "cell_type": "code",
   "execution_count": null,
   "metadata": {},
   "outputs": [],
   "source": []
  }
 ],
 "metadata": {
  "kernelspec": {
   "display_name": "Python 3 (ipykernel)",
   "language": "python",
   "name": "python3"
  },
  "language_info": {
   "codemirror_mode": {
    "name": "ipython",
    "version": 3
   },
   "file_extension": ".py",
   "mimetype": "text/x-python",
   "name": "python",
   "nbconvert_exporter": "python",
   "pygments_lexer": "ipython3",
   "version": "3.9.13"
  }
 },
 "nbformat": 4,
 "nbformat_minor": 2
}
